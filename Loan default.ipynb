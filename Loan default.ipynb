{
 "cells": [
  {
   "cell_type": "code",
   "execution_count": 1,
   "metadata": {
    "id": "7hrrAaT2YASD"
   },
   "outputs": [],
   "source": [
    "import pandas as pd\n",
    "import numpy as np\n",
    "import seaborn as sns\n",
    "%matplotlib inline\n",
    "import pandas as pd\n",
    "import matplotlib.pyplot as plt\n",
    "from IPython.display import display\n",
    "import numpy as np\n",
    "import matplotlib\n",
    "plt.rcParams.update({'font.size': 14})\n",
    "%config InlineBackend.figure_format = 'retina'\n",
    "\n",
    "plt.rcParams['figure.figsize']=[14,8]\n",
    "\n",
    "from sklearn.metrics import (accuracy_score, f1_score, confusion_matrix, make_scorer, roc_curve, \n",
    "                        \n",
    "                            auc, average_precision_score, roc_auc_score)\n",
    "from sklearn.compose import make_column_transformer\n",
    "from sklearn.model_selection import train_test_split, cross_val_score, GridSearchCV\n",
    "from sklearn.pipeline import Pipeline\n",
    "from sklearn.linear_model import LogisticRegression # Classifier 1\n",
    "from sklearn.ensemble import RandomForestClassifier # Classifier 2\n",
    "from sklearn.metrics import (accuracy_score, f1_score, confusion_matrix, make_scorer, roc_curve, \n",
    "                             auc, average_precision_score, roc_auc_score)\n",
    "from sklearn.model_selection import GridSearchCV # to optimize hyperparams\n",
    "from sklearn.preprocessing import StandardScaler # to standardize numerical features\n",
    "from sklearn.pipeline import Pipeline # to pass the standardization along with the classifier to GridSearchCV\n",
    "\n",
    "from sklearn.compose import ColumnTransformer\n",
    "from sklearn.compose import make_column_selector as selector\n",
    "\n",
    "from sklearn.pipeline import make_pipeline\n",
    "from sklearn.compose import make_column_transformer\n",
    "from sklearn.compose import make_column_selector\n",
    "from sklearn.preprocessing import OneHotEncoder"
   ]
  },
  {
   "cell_type": "markdown",
   "metadata": {
    "id": "zPzx4Kgsn5jI"
   },
   "source": [
    "# EDA"
   ]
  },
  {
   "cell_type": "code",
   "execution_count": 2,
   "metadata": {
    "id": "vdsiagh9YONk"
   },
   "outputs": [
    {
     "data": {
      "text/html": [
       "<div>\n",
       "<style scoped>\n",
       "    .dataframe tbody tr th:only-of-type {\n",
       "        vertical-align: middle;\n",
       "    }\n",
       "\n",
       "    .dataframe tbody tr th {\n",
       "        vertical-align: top;\n",
       "    }\n",
       "\n",
       "    .dataframe thead th {\n",
       "        text-align: right;\n",
       "    }\n",
       "</style>\n",
       "<table border=\"1\" class=\"dataframe\">\n",
       "  <thead>\n",
       "    <tr style=\"text-align: right;\">\n",
       "      <th></th>\n",
       "      <th>is_correct_linking</th>\n",
       "      <th>payable_amount</th>\n",
       "      <th>payable_counter_party_name</th>\n",
       "      <th>payable_date_occurred</th>\n",
       "      <th>payable_direction</th>\n",
       "      <th>payable_document_type</th>\n",
       "      <th>payable_due_date</th>\n",
       "      <th>payable_due_date_with_early_payment_discount</th>\n",
       "      <th>payable_early_payment_discount_percent</th>\n",
       "      <th>payable_origin</th>\n",
       "      <th>payment_account_type</th>\n",
       "      <th>payment_amount</th>\n",
       "      <th>payable_reference</th>\n",
       "      <th>payment_counter_party_name</th>\n",
       "      <th>payment_date</th>\n",
       "      <th>payment_direction</th>\n",
       "      <th>payment_origin</th>\n",
       "      <th>payment_reference</th>\n",
       "    </tr>\n",
       "  </thead>\n",
       "  <tbody>\n",
       "    <tr>\n",
       "      <th>680</th>\n",
       "      <td>0.0</td>\n",
       "      <td>447.78</td>\n",
       "      <td>B. G. Weismüller et Comp., Gesellschaft mit be...</td>\n",
       "      <td>2018-04-21</td>\n",
       "      <td>incoming</td>\n",
       "      <td>Invoice</td>\n",
       "      <td>2018-05-21</td>\n",
       "      <td>NaT</td>\n",
       "      <td>NaN</td>\n",
       "      <td>supplier</td>\n",
       "      <td>bank_account</td>\n",
       "      <td>189.20</td>\n",
       "      <td>18—008—8074644</td>\n",
       "      <td>Begleitetes Leben für demenzbetroffene Mensche...</td>\n",
       "      <td>2018-07-30</td>\n",
       "      <td>outgoing</td>\n",
       "      <td>supplier</td>\n",
       "      <td>Svwz+173-2018 Datum 28.07.2018, 14.24 Uhr1.Tan...</td>\n",
       "    </tr>\n",
       "    <tr>\n",
       "      <th>400</th>\n",
       "      <td>1.0</td>\n",
       "      <td>55.00</td>\n",
       "      <td>Hängegleiterverein PHOENIX Berlin e.V.</td>\n",
       "      <td>2018-07-18</td>\n",
       "      <td>incoming</td>\n",
       "      <td>Receipt</td>\n",
       "      <td>2018-07-18</td>\n",
       "      <td>NaT</td>\n",
       "      <td>NaN</td>\n",
       "      <td>supplier</td>\n",
       "      <td>cash_register</td>\n",
       "      <td>55.00</td>\n",
       "      <td>NaN</td>\n",
       "      <td>KaMa Restaurant GmbH</td>\n",
       "      <td>2018-07-18</td>\n",
       "      <td>outgoing</td>\n",
       "      <td>supplier</td>\n",
       "      <td>KaMa Restaurant GmbH , KaMa Restaurant GmbH</td>\n",
       "    </tr>\n",
       "    <tr>\n",
       "      <th>1481</th>\n",
       "      <td>0.0</td>\n",
       "      <td>142.80</td>\n",
       "      <td>Kompaß-Antennen H. Schaefer</td>\n",
       "      <td>2018-03-22</td>\n",
       "      <td>incoming</td>\n",
       "      <td>Invoice</td>\n",
       "      <td>2018-04-21</td>\n",
       "      <td>NaT</td>\n",
       "      <td>NaN</td>\n",
       "      <td>supplier</td>\n",
       "      <td>bank_account</td>\n",
       "      <td>323.12</td>\n",
       "      <td>BSJ23784</td>\n",
       "      <td>FRAMA Zeitarbeit Martha Franz</td>\n",
       "      <td>2018-02-28</td>\n",
       "      <td>outgoing</td>\n",
       "      <td>supplier</td>\n",
       "      <td>Eref+Vk 60911000501 Bn 2211022256 Mref+Bsr.100...</td>\n",
       "    </tr>\n",
       "    <tr>\n",
       "      <th>1797</th>\n",
       "      <td>0.0</td>\n",
       "      <td>58.96</td>\n",
       "      <td>Intertrust Trustees GmbH</td>\n",
       "      <td>2018-08-13</td>\n",
       "      <td>incoming</td>\n",
       "      <td>Invoice</td>\n",
       "      <td>2018-09-12</td>\n",
       "      <td>NaT</td>\n",
       "      <td>NaN</td>\n",
       "      <td>supplier</td>\n",
       "      <td>bank_account</td>\n",
       "      <td>4.30</td>\n",
       "      <td>94527.0</td>\n",
       "      <td>Bildungs-und Jugendzentrum Wilhelmsburg e.V.</td>\n",
       "      <td>2018-09-12</td>\n",
       "      <td>outgoing</td>\n",
       "      <td>supplier</td>\n",
       "      <td>EREF+SEPADDDD000152267275-01 MREF+3763637-1-25...</td>\n",
       "    </tr>\n",
       "    <tr>\n",
       "      <th>968</th>\n",
       "      <td>0.0</td>\n",
       "      <td>108.29</td>\n",
       "      <td>K*STAR Communications GmbH</td>\n",
       "      <td>2018-04-01</td>\n",
       "      <td>incoming</td>\n",
       "      <td>Invoice</td>\n",
       "      <td>2018-05-01</td>\n",
       "      <td>NaT</td>\n",
       "      <td>NaN</td>\n",
       "      <td>supplier</td>\n",
       "      <td>bank_account</td>\n",
       "      <td>23.08</td>\n",
       "      <td>R1804-2416</td>\n",
       "      <td>centevo Handelsgesellschaft mbH</td>\n",
       "      <td>2018-07-30</td>\n",
       "      <td>outgoing</td>\n",
       "      <td>supplier</td>\n",
       "      <td>Referenz Rechnr. 100567552913 Mandat Kd0200084...</td>\n",
       "    </tr>\n",
       "  </tbody>\n",
       "</table>\n",
       "</div>"
      ],
      "text/plain": [
       "      is_correct_linking  payable_amount  \\\n",
       "680                  0.0          447.78   \n",
       "400                  1.0           55.00   \n",
       "1481                 0.0          142.80   \n",
       "1797                 0.0           58.96   \n",
       "968                  0.0          108.29   \n",
       "\n",
       "                             payable_counter_party_name payable_date_occurred  \\\n",
       "680   B. G. Weismüller et Comp., Gesellschaft mit be...            2018-04-21   \n",
       "400              Hängegleiterverein PHOENIX Berlin e.V.            2018-07-18   \n",
       "1481                        Kompaß-Antennen H. Schaefer            2018-03-22   \n",
       "1797                           Intertrust Trustees GmbH            2018-08-13   \n",
       "968                          K*STAR Communications GmbH            2018-04-01   \n",
       "\n",
       "     payable_direction payable_document_type payable_due_date  \\\n",
       "680           incoming               Invoice       2018-05-21   \n",
       "400           incoming               Receipt       2018-07-18   \n",
       "1481          incoming               Invoice       2018-04-21   \n",
       "1797          incoming               Invoice       2018-09-12   \n",
       "968           incoming               Invoice       2018-05-01   \n",
       "\n",
       "     payable_due_date_with_early_payment_discount  \\\n",
       "680                                           NaT   \n",
       "400                                           NaT   \n",
       "1481                                          NaT   \n",
       "1797                                          NaT   \n",
       "968                                           NaT   \n",
       "\n",
       "      payable_early_payment_discount_percent payable_origin  \\\n",
       "680                                      NaN       supplier   \n",
       "400                                      NaN       supplier   \n",
       "1481                                     NaN       supplier   \n",
       "1797                                     NaN       supplier   \n",
       "968                                      NaN       supplier   \n",
       "\n",
       "     payment_account_type  payment_amount payable_reference  \\\n",
       "680          bank_account          189.20    18—008—8074644   \n",
       "400         cash_register           55.00               NaN   \n",
       "1481         bank_account          323.12          BSJ23784   \n",
       "1797         bank_account            4.30           94527.0   \n",
       "968          bank_account           23.08        R1804-2416   \n",
       "\n",
       "                             payment_counter_party_name payment_date  \\\n",
       "680   Begleitetes Leben für demenzbetroffene Mensche...   2018-07-30   \n",
       "400                                KaMa Restaurant GmbH   2018-07-18   \n",
       "1481                      FRAMA Zeitarbeit Martha Franz   2018-02-28   \n",
       "1797       Bildungs-und Jugendzentrum Wilhelmsburg e.V.   2018-09-12   \n",
       "968                     centevo Handelsgesellschaft mbH   2018-07-30   \n",
       "\n",
       "     payment_direction payment_origin  \\\n",
       "680           outgoing       supplier   \n",
       "400           outgoing       supplier   \n",
       "1481          outgoing       supplier   \n",
       "1797          outgoing       supplier   \n",
       "968           outgoing       supplier   \n",
       "\n",
       "                                      payment_reference  \n",
       "680   Svwz+173-2018 Datum 28.07.2018, 14.24 Uhr1.Tan...  \n",
       "400        KaMa Restaurant GmbH , KaMa Restaurant GmbH   \n",
       "1481  Eref+Vk 60911000501 Bn 2211022256 Mref+Bsr.100...  \n",
       "1797  EREF+SEPADDDD000152267275-01 MREF+3763637-1-25...  \n",
       "968   Referenz Rechnr. 100567552913 Mandat Kd0200084...  "
      ]
     },
     "execution_count": 2,
     "metadata": {},
     "output_type": "execute_result"
    }
   ],
   "source": [
    "df = pd.read_excel(\"reconciliation_exercise_dataset.xlsx\")\n",
    "df.sample(frac=1).head(n=5)"
   ]
  },
  {
   "cell_type": "code",
   "execution_count": 3,
   "metadata": {},
   "outputs": [
    {
     "data": {
      "text/plain": [
       "array(['Invoice', 'ForeignInvoice', 'Receipt', 'EntertainmentReceipt',\n",
       "       'CommuteTicket', 'LatePaymentInvoice', 'CollectionReceipt',\n",
       "       'Refund', datetime.datetime(2020, 6, 16, 0, 0), 'PaymentRequest',\n",
       "       'PaymentContract'], dtype=object)"
      ]
     },
     "execution_count": 3,
     "metadata": {},
     "output_type": "execute_result"
    }
   ],
   "source": [
    "df['payable_document_type'].unique()"
   ]
  },
  {
   "cell_type": "code",
   "execution_count": null,
   "metadata": {},
   "outputs": [],
   "source": []
  },
  {
   "cell_type": "code",
   "execution_count": 4,
   "metadata": {
    "id": "AySe191innb8"
   },
   "outputs": [
    {
     "name": "stdout",
     "output_type": "stream",
     "text": [
      "<class 'pandas.core.frame.DataFrame'>\n",
      "RangeIndex: 2000 entries, 0 to 1999\n",
      "Data columns (total 18 columns):\n",
      " #   Column                                        Non-Null Count  Dtype         \n",
      "---  ------                                        --------------  -----         \n",
      " 0   is_correct_linking                            2000 non-null   float64       \n",
      " 1   payable_amount                                2000 non-null   float64       \n",
      " 2   payable_counter_party_name                    2000 non-null   object        \n",
      " 3   payable_date_occurred                         2000 non-null   datetime64[ns]\n",
      " 4   payable_direction                             2000 non-null   object        \n",
      " 5   payable_document_type                         2000 non-null   object        \n",
      " 6   payable_due_date                              1836 non-null   datetime64[ns]\n",
      " 7   payable_due_date_with_early_payment_discount  9 non-null      datetime64[ns]\n",
      " 8   payable_early_payment_discount_percent        111 non-null    float64       \n",
      " 9   payable_origin                                2000 non-null   object        \n",
      " 10  payment_account_type                          2000 non-null   object        \n",
      " 11  payment_amount                                2000 non-null   float64       \n",
      " 12  payable_reference                             1433 non-null   object        \n",
      " 13  payment_counter_party_name                    1847 non-null   object        \n",
      " 14  payment_date                                  2000 non-null   datetime64[ns]\n",
      " 15  payment_direction                             2000 non-null   object        \n",
      " 16  payment_origin                                2000 non-null   object        \n",
      " 17  payment_reference                             1997 non-null   object        \n",
      "dtypes: datetime64[ns](4), float64(4), object(10)\n",
      "memory usage: 281.4+ KB\n"
     ]
    }
   ],
   "source": [
    "df.info()"
   ]
  },
  {
   "cell_type": "code",
   "execution_count": 5,
   "metadata": {
    "id": "CQdqDL4WbeS4"
   },
   "outputs": [
    {
     "data": {
      "text/plain": [
       "is_correct_linking                                 0\n",
       "payable_amount                                     0\n",
       "payable_counter_party_name                         0\n",
       "payable_date_occurred                              0\n",
       "payable_direction                                  0\n",
       "payable_document_type                              0\n",
       "payable_due_date                                 164\n",
       "payable_due_date_with_early_payment_discount    1991\n",
       "payable_early_payment_discount_percent          1889\n",
       "payable_origin                                     0\n",
       "payment_account_type                               0\n",
       "payment_amount                                     0\n",
       "payable_reference                                567\n",
       "payment_counter_party_name                       153\n",
       "payment_date                                       0\n",
       "payment_direction                                  0\n",
       "payment_origin                                     0\n",
       "payment_reference                                  3\n",
       "dtype: int64"
      ]
     },
     "execution_count": 5,
     "metadata": {},
     "output_type": "execute_result"
    }
   ],
   "source": [
    "# Check for Null values\n",
    "\n",
    "df.isna().sum()"
   ]
  },
  {
   "cell_type": "markdown",
   "metadata": {
    "id": "eJN7oHMXIgIN"
   },
   "source": [
    "# Preprocessing & Feature Engineering"
   ]
  },
  {
   "cell_type": "markdown",
   "metadata": {
    "id": "3xTUNrUOmgXK"
   },
   "source": [
    "### Dropping features\n",
    "\n",
    "Columns whose values are the same"
   ]
  },
  {
   "cell_type": "code",
   "execution_count": 6,
   "metadata": {
    "id": "8uOLmiZeYt-U"
   },
   "outputs": [
    {
     "data": {
      "text/plain": [
       "incoming    2000\n",
       "Name: payable_direction, dtype: int64"
      ]
     },
     "execution_count": 6,
     "metadata": {},
     "output_type": "execute_result"
    }
   ],
   "source": [
    "df['payable_direction'].value_counts(dropna=False)"
   ]
  },
  {
   "cell_type": "code",
   "execution_count": 7,
   "metadata": {
    "id": "R4Msrfc5m3Dl"
   },
   "outputs": [
    {
     "data": {
      "text/plain": [
       "supplier    2000\n",
       "Name: payable_origin, dtype: int64"
      ]
     },
     "execution_count": 7,
     "metadata": {},
     "output_type": "execute_result"
    }
   ],
   "source": [
    "df['payable_origin'].value_counts(dropna=False)"
   ]
  },
  {
   "cell_type": "code",
   "execution_count": 8,
   "metadata": {
    "id": "l6VqyD4sE0Oq"
   },
   "outputs": [],
   "source": [
    "df.drop(columns=['payable_direction', 'payable_origin'], inplace=True)"
   ]
  },
  {
   "cell_type": "markdown",
   "metadata": {
    "id": "Lwfmqd1mrjWM"
   },
   "source": [
    "Other columns whose features are unlikely to contribute"
   ]
  },
  {
   "cell_type": "code",
   "execution_count": 9,
   "metadata": {
    "id": "xJA9YaqYenpq"
   },
   "outputs": [],
   "source": [
    "df.drop(columns=['payable_reference', 'payment_reference', 'payable_due_date_with_early_payment_discount', 'payable_early_payment_discount_percent'], inplace=True)"
   ]
  },
  {
   "cell_type": "code",
   "execution_count": 10,
   "metadata": {
    "id": "N6Tn1YOu2UqT"
   },
   "outputs": [
    {
     "data": {
      "text/html": [
       "<div>\n",
       "<style scoped>\n",
       "    .dataframe tbody tr th:only-of-type {\n",
       "        vertical-align: middle;\n",
       "    }\n",
       "\n",
       "    .dataframe tbody tr th {\n",
       "        vertical-align: top;\n",
       "    }\n",
       "\n",
       "    .dataframe thead th {\n",
       "        text-align: right;\n",
       "    }\n",
       "</style>\n",
       "<table border=\"1\" class=\"dataframe\">\n",
       "  <thead>\n",
       "    <tr style=\"text-align: right;\">\n",
       "      <th></th>\n",
       "      <th>payable_date_occurred</th>\n",
       "      <th>payable_due_date</th>\n",
       "      <th>payment_date</th>\n",
       "    </tr>\n",
       "  </thead>\n",
       "  <tbody>\n",
       "    <tr>\n",
       "      <th>0</th>\n",
       "      <td>2018-02-28</td>\n",
       "      <td>2018-03-30</td>\n",
       "      <td>2018-04-25</td>\n",
       "    </tr>\n",
       "    <tr>\n",
       "      <th>1</th>\n",
       "      <td>2018-03-19</td>\n",
       "      <td>2018-04-18</td>\n",
       "      <td>2018-02-23</td>\n",
       "    </tr>\n",
       "    <tr>\n",
       "      <th>2</th>\n",
       "      <td>2018-03-01</td>\n",
       "      <td>NaT</td>\n",
       "      <td>2018-03-13</td>\n",
       "    </tr>\n",
       "    <tr>\n",
       "      <th>3</th>\n",
       "      <td>2018-06-09</td>\n",
       "      <td>2018-07-09</td>\n",
       "      <td>2018-07-03</td>\n",
       "    </tr>\n",
       "    <tr>\n",
       "      <th>4</th>\n",
       "      <td>2018-07-17</td>\n",
       "      <td>2018-07-17</td>\n",
       "      <td>2018-07-17</td>\n",
       "    </tr>\n",
       "    <tr>\n",
       "      <th>...</th>\n",
       "      <td>...</td>\n",
       "      <td>...</td>\n",
       "      <td>...</td>\n",
       "    </tr>\n",
       "    <tr>\n",
       "      <th>1995</th>\n",
       "      <td>2018-09-13</td>\n",
       "      <td>2018-09-13</td>\n",
       "      <td>2018-09-26</td>\n",
       "    </tr>\n",
       "    <tr>\n",
       "      <th>1996</th>\n",
       "      <td>2018-07-23</td>\n",
       "      <td>2018-07-23</td>\n",
       "      <td>2018-07-23</td>\n",
       "    </tr>\n",
       "    <tr>\n",
       "      <th>1997</th>\n",
       "      <td>2018-08-28</td>\n",
       "      <td>2018-09-27</td>\n",
       "      <td>2018-09-10</td>\n",
       "    </tr>\n",
       "    <tr>\n",
       "      <th>1998</th>\n",
       "      <td>2018-01-27</td>\n",
       "      <td>2018-01-27</td>\n",
       "      <td>2018-01-27</td>\n",
       "    </tr>\n",
       "    <tr>\n",
       "      <th>1999</th>\n",
       "      <td>2017-12-31</td>\n",
       "      <td>2018-01-14</td>\n",
       "      <td>2018-02-20</td>\n",
       "    </tr>\n",
       "  </tbody>\n",
       "</table>\n",
       "<p>2000 rows × 3 columns</p>\n",
       "</div>"
      ],
      "text/plain": [
       "     payable_date_occurred payable_due_date payment_date\n",
       "0               2018-02-28       2018-03-30   2018-04-25\n",
       "1               2018-03-19       2018-04-18   2018-02-23\n",
       "2               2018-03-01              NaT   2018-03-13\n",
       "3               2018-06-09       2018-07-09   2018-07-03\n",
       "4               2018-07-17       2018-07-17   2018-07-17\n",
       "...                    ...              ...          ...\n",
       "1995            2018-09-13       2018-09-13   2018-09-26\n",
       "1996            2018-07-23       2018-07-23   2018-07-23\n",
       "1997            2018-08-28       2018-09-27   2018-09-10\n",
       "1998            2018-01-27       2018-01-27   2018-01-27\n",
       "1999            2017-12-31       2018-01-14   2018-02-20\n",
       "\n",
       "[2000 rows x 3 columns]"
      ]
     },
     "execution_count": 10,
     "metadata": {},
     "output_type": "execute_result"
    }
   ],
   "source": [
    "# 'payable_date_occurred' is incompatible with 'payment_date'.\n",
    "    # Namely, for many of the transactions, the payment was supposedly recorded as 'done' before the transaction took place.\n",
    "\n",
    "df[['payable_date_occurred', 'payable_due_date', 'payment_date']]"
   ]
  },
  {
   "cell_type": "code",
   "execution_count": 11,
   "metadata": {
    "id": "VAUv3TlP2Kdn"
   },
   "outputs": [],
   "source": [
    "# A new feature to reflect the time difference between the due date and the actual payment date\n",
    "\n",
    "df[\"time_diff\"] = df['payable_due_date'] - df['payment_date']"
   ]
  },
  {
   "cell_type": "code",
   "execution_count": 12,
   "metadata": {
    "id": "hdoWtVPw3eoq"
   },
   "outputs": [],
   "source": [
    "# Dropping datetime columns\n",
    "\n",
    "df.drop(columns=['payable_date_occurred', 'payable_due_date', 'payment_date'], inplace=True)"
   ]
  },
  {
   "cell_type": "code",
   "execution_count": 13,
   "metadata": {
    "id": "ea6XHzwv3rhj"
   },
   "outputs": [
    {
     "data": {
      "text/plain": [
       "0 days       168\n",
       "-1 days       71\n",
       "30 days       42\n",
       "-2 days       40\n",
       "28 days       36\n",
       "            ... \n",
       "-114 days      1\n",
       "-116 days      1\n",
       "-115 days      1\n",
       "-92 days       1\n",
       "153 days       1\n",
       "Name: time_diff, Length: 193, dtype: int64"
      ]
     },
     "execution_count": 13,
     "metadata": {},
     "output_type": "execute_result"
    }
   ],
   "source": [
    "# Later - put in bins\n",
    "\n",
    "df['time_diff'].value_counts()"
   ]
  },
  {
   "cell_type": "markdown",
   "metadata": {
    "id": "ZZ5zzfuImUrK"
   },
   "source": [
    "### Dropping irrelevant rows"
   ]
  },
  {
   "cell_type": "code",
   "execution_count": 14,
   "metadata": {
    "id": "BGo_lEdVa-7Q"
   },
   "outputs": [
    {
     "data": {
      "text/plain": [
       "Invoice                 1165\n",
       "Receipt                  531\n",
       "ForeignInvoice           153\n",
       "LatePaymentInvoice        45\n",
       "EntertainmentReceipt      35\n",
       "CommuteTicket             34\n",
       "Refund                    30\n",
       "CollectionReceipt          3\n",
       "PaymentRequest             2\n",
       "2020-06-16 00:00:00        1\n",
       "PaymentContract            1\n",
       "Name: payable_document_type, dtype: int64"
      ]
     },
     "execution_count": 14,
     "metadata": {},
     "output_type": "execute_result"
    }
   ],
   "source": [
    "df['payable_document_type'].value_counts(dropna=False)"
   ]
  },
  {
   "cell_type": "code",
   "execution_count": 15,
   "metadata": {
    "id": "fOlR1tWFhNlv"
   },
   "outputs": [],
   "source": [
    "# Remove the single row corresponding to the index hosting a datetime object in the `payable_document_type` column\n",
    "\n",
    "remove_idx = df[df[\"payable_document_type\"].map(type) != str].index\n",
    "df.drop(index=remove_idx, inplace=True)"
   ]
  },
  {
   "cell_type": "code",
   "execution_count": 16,
   "metadata": {
    "id": "tdAP9TUIxc5M"
   },
   "outputs": [],
   "source": [
    "# Remove the rows corresponding to the null indices in the `payment_counter_party_name` column\n",
    "\n",
    "remove_idx = df[df[\"payment_counter_party_name\"].isna()].index\n",
    "df.drop(index=remove_idx, inplace=True)"
   ]
  },
  {
   "cell_type": "code",
   "execution_count": 17,
   "metadata": {
    "id": "bMex5cynGrKW"
   },
   "outputs": [],
   "source": [
    "# Remove the rows corresponding to the null indices in the `time_diff` column\n",
    "\n",
    "remove_idx = df[df[\"time_diff\"].isna()].index\n",
    "df.drop(index=remove_idx, inplace=True)"
   ]
  },
  {
   "cell_type": "markdown",
   "metadata": {
    "id": "3M9yVBFJm_eM"
   },
   "source": [
    "### Converting CamelCase to snake_case"
   ]
  },
  {
   "cell_type": "code",
   "execution_count": 18,
   "metadata": {
    "id": "jW6iaE9Odktu"
   },
   "outputs": [],
   "source": [
    "def change_case(str):\n",
    "     \n",
    "    return ''.join(['_'+i.lower() if i.isupper() else i for i in str]).lstrip('_')"
   ]
  },
  {
   "cell_type": "code",
   "execution_count": 19,
   "metadata": {
    "id": "eFZGJ33he7TE"
   },
   "outputs": [],
   "source": [
    "df['payable_document_type'] = df['payable_document_type'].apply(change_case)"
   ]
  },
  {
   "cell_type": "markdown",
   "metadata": {
    "id": "ikiLKGogWQD4"
   },
   "source": [
    "### New feature "
   ]
  },
  {
   "cell_type": "code",
   "execution_count": 20,
   "metadata": {
    "id": "0vzfG2ulJJ2C"
   },
   "outputs": [],
   "source": [
    "df['time_diff'] = df['time_diff'].apply(str).str.split(' ').apply(lambda x: x[0]).astype(int)"
   ]
  },
  {
   "cell_type": "code",
   "execution_count": 21,
   "metadata": {
    "id": "qNF0Tw0SJJuK"
   },
   "outputs": [
    {
     "data": {
      "text/html": [
       "<div>\n",
       "<style scoped>\n",
       "    .dataframe tbody tr th:only-of-type {\n",
       "        vertical-align: middle;\n",
       "    }\n",
       "\n",
       "    .dataframe tbody tr th {\n",
       "        vertical-align: top;\n",
       "    }\n",
       "\n",
       "    .dataframe thead th {\n",
       "        text-align: right;\n",
       "    }\n",
       "</style>\n",
       "<table border=\"1\" class=\"dataframe\">\n",
       "  <thead>\n",
       "    <tr style=\"text-align: right;\">\n",
       "      <th></th>\n",
       "      <th>is_correct_linking</th>\n",
       "      <th>payable_amount</th>\n",
       "      <th>payable_counter_party_name</th>\n",
       "      <th>payable_document_type</th>\n",
       "      <th>payment_account_type</th>\n",
       "      <th>payment_amount</th>\n",
       "      <th>payment_counter_party_name</th>\n",
       "      <th>payment_direction</th>\n",
       "      <th>payment_origin</th>\n",
       "      <th>time_diff</th>\n",
       "    </tr>\n",
       "  </thead>\n",
       "  <tbody>\n",
       "    <tr>\n",
       "      <th>0</th>\n",
       "      <td>0.0</td>\n",
       "      <td>416.21</td>\n",
       "      <td>\"Mystica\" e.V.</td>\n",
       "      <td>invoice</td>\n",
       "      <td>bank_account</td>\n",
       "      <td>604.44</td>\n",
       "      <td>Kolde Stadtpalais GmbH &amp; Co. KG</td>\n",
       "      <td>outgoing</td>\n",
       "      <td>supplier</td>\n",
       "      <td>-26</td>\n",
       "    </tr>\n",
       "    <tr>\n",
       "      <th>1</th>\n",
       "      <td>0.0</td>\n",
       "      <td>49.83</td>\n",
       "      <td>Rußlandhilfe e.V.</td>\n",
       "      <td>invoice</td>\n",
       "      <td>bank_account</td>\n",
       "      <td>19.87</td>\n",
       "      <td>Fernseh-Hartmann GmbH</td>\n",
       "      <td>outgoing</td>\n",
       "      <td>supplier</td>\n",
       "      <td>54</td>\n",
       "    </tr>\n",
       "    <tr>\n",
       "      <th>3</th>\n",
       "      <td>0.0</td>\n",
       "      <td>16.99</td>\n",
       "      <td>Klar Plus GmbH</td>\n",
       "      <td>foreign_invoice</td>\n",
       "      <td>credit_card</td>\n",
       "      <td>295.00</td>\n",
       "      <td>DOC-Gastro GmbH</td>\n",
       "      <td>outgoing</td>\n",
       "      <td>supplier</td>\n",
       "      <td>6</td>\n",
       "    </tr>\n",
       "    <tr>\n",
       "      <th>4</th>\n",
       "      <td>1.0</td>\n",
       "      <td>12.28</td>\n",
       "      <td>WEKA-Solvent-Vertriebs GmbH</td>\n",
       "      <td>receipt</td>\n",
       "      <td>cash_register</td>\n",
       "      <td>12.28</td>\n",
       "      <td>T-R RE-Fund I GmbH &amp; Co. Retail 13 KG</td>\n",
       "      <td>outgoing</td>\n",
       "      <td>supplier</td>\n",
       "      <td>0</td>\n",
       "    </tr>\n",
       "    <tr>\n",
       "      <th>6</th>\n",
       "      <td>0.0</td>\n",
       "      <td>2.10</td>\n",
       "      <td>Kleingartenverein \"Sonnenschein\" Werdau   e.V.</td>\n",
       "      <td>receipt</td>\n",
       "      <td>cash_register</td>\n",
       "      <td>11.86</td>\n",
       "      <td>Klostermann Beteiligungs UG (haftungsbeschränkt)</td>\n",
       "      <td>outgoing</td>\n",
       "      <td>supplier</td>\n",
       "      <td>1</td>\n",
       "    </tr>\n",
       "  </tbody>\n",
       "</table>\n",
       "</div>"
      ],
      "text/plain": [
       "   is_correct_linking  payable_amount  \\\n",
       "0                 0.0          416.21   \n",
       "1                 0.0           49.83   \n",
       "3                 0.0           16.99   \n",
       "4                 1.0           12.28   \n",
       "6                 0.0            2.10   \n",
       "\n",
       "                       payable_counter_party_name payable_document_type  \\\n",
       "0                                  \"Mystica\" e.V.               invoice   \n",
       "1                               Rußlandhilfe e.V.               invoice   \n",
       "3                                  Klar Plus GmbH       foreign_invoice   \n",
       "4                     WEKA-Solvent-Vertriebs GmbH               receipt   \n",
       "6  Kleingartenverein \"Sonnenschein\" Werdau   e.V.               receipt   \n",
       "\n",
       "  payment_account_type  payment_amount  \\\n",
       "0         bank_account          604.44   \n",
       "1         bank_account           19.87   \n",
       "3          credit_card          295.00   \n",
       "4        cash_register           12.28   \n",
       "6        cash_register           11.86   \n",
       "\n",
       "                         payment_counter_party_name payment_direction  \\\n",
       "0                   Kolde Stadtpalais GmbH & Co. KG          outgoing   \n",
       "1                             Fernseh-Hartmann GmbH          outgoing   \n",
       "3                                   DOC-Gastro GmbH          outgoing   \n",
       "4             T-R RE-Fund I GmbH & Co. Retail 13 KG          outgoing   \n",
       "6  Klostermann Beteiligungs UG (haftungsbeschränkt)          outgoing   \n",
       "\n",
       "  payment_origin  time_diff  \n",
       "0       supplier        -26  \n",
       "1       supplier         54  \n",
       "3       supplier          6  \n",
       "4       supplier          0  \n",
       "6       supplier          1  "
      ]
     },
     "execution_count": 21,
     "metadata": {},
     "output_type": "execute_result"
    }
   ],
   "source": [
    "df.head()"
   ]
  },
  {
   "cell_type": "code",
   "execution_count": 22,
   "metadata": {},
   "outputs": [],
   "source": [
    "columns = ['payable_counter_party_name', 'payment_counter_party_name']\n",
    "df.drop(columns, inplace=True, axis=1)"
   ]
  },
  {
   "cell_type": "code",
   "execution_count": 23,
   "metadata": {},
   "outputs": [
    {
     "data": {
      "text/plain": [
       "Index(['is_correct_linking', 'payable_amount', 'payable_document_type',\n",
       "       'payment_account_type', 'payment_amount', 'payment_direction',\n",
       "       'payment_origin', 'time_diff'],\n",
       "      dtype='object')"
      ]
     },
     "execution_count": 23,
     "metadata": {},
     "output_type": "execute_result"
    }
   ],
   "source": [
    "df.columns"
   ]
  },
  {
   "cell_type": "code",
   "execution_count": 24,
   "metadata": {},
   "outputs": [
    {
     "data": {
      "text/html": [
       "<div>\n",
       "<style scoped>\n",
       "    .dataframe tbody tr th:only-of-type {\n",
       "        vertical-align: middle;\n",
       "    }\n",
       "\n",
       "    .dataframe tbody tr th {\n",
       "        vertical-align: top;\n",
       "    }\n",
       "\n",
       "    .dataframe thead th {\n",
       "        text-align: right;\n",
       "    }\n",
       "</style>\n",
       "<table border=\"1\" class=\"dataframe\">\n",
       "  <thead>\n",
       "    <tr style=\"text-align: right;\">\n",
       "      <th></th>\n",
       "      <th>is_correct_linking</th>\n",
       "      <th>payable_amount</th>\n",
       "      <th>payable_document_type</th>\n",
       "      <th>payment_account_type</th>\n",
       "      <th>payment_amount</th>\n",
       "      <th>payment_direction</th>\n",
       "      <th>payment_origin</th>\n",
       "      <th>time_diff</th>\n",
       "    </tr>\n",
       "  </thead>\n",
       "  <tbody>\n",
       "    <tr>\n",
       "      <th>0</th>\n",
       "      <td>0.0</td>\n",
       "      <td>416.21</td>\n",
       "      <td>invoice</td>\n",
       "      <td>bank_account</td>\n",
       "      <td>604.44</td>\n",
       "      <td>outgoing</td>\n",
       "      <td>supplier</td>\n",
       "      <td>-26</td>\n",
       "    </tr>\n",
       "    <tr>\n",
       "      <th>1</th>\n",
       "      <td>0.0</td>\n",
       "      <td>49.83</td>\n",
       "      <td>invoice</td>\n",
       "      <td>bank_account</td>\n",
       "      <td>19.87</td>\n",
       "      <td>outgoing</td>\n",
       "      <td>supplier</td>\n",
       "      <td>54</td>\n",
       "    </tr>\n",
       "    <tr>\n",
       "      <th>3</th>\n",
       "      <td>0.0</td>\n",
       "      <td>16.99</td>\n",
       "      <td>foreign_invoice</td>\n",
       "      <td>credit_card</td>\n",
       "      <td>295.00</td>\n",
       "      <td>outgoing</td>\n",
       "      <td>supplier</td>\n",
       "      <td>6</td>\n",
       "    </tr>\n",
       "    <tr>\n",
       "      <th>4</th>\n",
       "      <td>1.0</td>\n",
       "      <td>12.28</td>\n",
       "      <td>receipt</td>\n",
       "      <td>cash_register</td>\n",
       "      <td>12.28</td>\n",
       "      <td>outgoing</td>\n",
       "      <td>supplier</td>\n",
       "      <td>0</td>\n",
       "    </tr>\n",
       "    <tr>\n",
       "      <th>6</th>\n",
       "      <td>0.0</td>\n",
       "      <td>2.10</td>\n",
       "      <td>receipt</td>\n",
       "      <td>cash_register</td>\n",
       "      <td>11.86</td>\n",
       "      <td>outgoing</td>\n",
       "      <td>supplier</td>\n",
       "      <td>1</td>\n",
       "    </tr>\n",
       "    <tr>\n",
       "      <th>...</th>\n",
       "      <td>...</td>\n",
       "      <td>...</td>\n",
       "      <td>...</td>\n",
       "      <td>...</td>\n",
       "      <td>...</td>\n",
       "      <td>...</td>\n",
       "      <td>...</td>\n",
       "      <td>...</td>\n",
       "    </tr>\n",
       "    <tr>\n",
       "      <th>1994</th>\n",
       "      <td>1.0</td>\n",
       "      <td>30.80</td>\n",
       "      <td>invoice</td>\n",
       "      <td>bank_account</td>\n",
       "      <td>30.80</td>\n",
       "      <td>outgoing</td>\n",
       "      <td>supplier</td>\n",
       "      <td>25</td>\n",
       "    </tr>\n",
       "    <tr>\n",
       "      <th>1995</th>\n",
       "      <td>0.0</td>\n",
       "      <td>73.90</td>\n",
       "      <td>receipt</td>\n",
       "      <td>bank_account</td>\n",
       "      <td>535.92</td>\n",
       "      <td>outgoing</td>\n",
       "      <td>supplier</td>\n",
       "      <td>-13</td>\n",
       "    </tr>\n",
       "    <tr>\n",
       "      <th>1996</th>\n",
       "      <td>1.0</td>\n",
       "      <td>1.00</td>\n",
       "      <td>receipt</td>\n",
       "      <td>cash_register</td>\n",
       "      <td>1.00</td>\n",
       "      <td>outgoing</td>\n",
       "      <td>supplier</td>\n",
       "      <td>0</td>\n",
       "    </tr>\n",
       "    <tr>\n",
       "      <th>1997</th>\n",
       "      <td>0.0</td>\n",
       "      <td>55.34</td>\n",
       "      <td>invoice</td>\n",
       "      <td>bank_account</td>\n",
       "      <td>116.63</td>\n",
       "      <td>outgoing</td>\n",
       "      <td>supplier</td>\n",
       "      <td>17</td>\n",
       "    </tr>\n",
       "    <tr>\n",
       "      <th>1999</th>\n",
       "      <td>1.0</td>\n",
       "      <td>358.00</td>\n",
       "      <td>invoice</td>\n",
       "      <td>bank_account</td>\n",
       "      <td>358.00</td>\n",
       "      <td>outgoing</td>\n",
       "      <td>supplier</td>\n",
       "      <td>-37</td>\n",
       "    </tr>\n",
       "  </tbody>\n",
       "</table>\n",
       "<p>1695 rows × 8 columns</p>\n",
       "</div>"
      ],
      "text/plain": [
       "      is_correct_linking  payable_amount payable_document_type  \\\n",
       "0                    0.0          416.21               invoice   \n",
       "1                    0.0           49.83               invoice   \n",
       "3                    0.0           16.99       foreign_invoice   \n",
       "4                    1.0           12.28               receipt   \n",
       "6                    0.0            2.10               receipt   \n",
       "...                  ...             ...                   ...   \n",
       "1994                 1.0           30.80               invoice   \n",
       "1995                 0.0           73.90               receipt   \n",
       "1996                 1.0            1.00               receipt   \n",
       "1997                 0.0           55.34               invoice   \n",
       "1999                 1.0          358.00               invoice   \n",
       "\n",
       "     payment_account_type  payment_amount payment_direction payment_origin  \\\n",
       "0            bank_account          604.44          outgoing       supplier   \n",
       "1            bank_account           19.87          outgoing       supplier   \n",
       "3             credit_card          295.00          outgoing       supplier   \n",
       "4           cash_register           12.28          outgoing       supplier   \n",
       "6           cash_register           11.86          outgoing       supplier   \n",
       "...                   ...             ...               ...            ...   \n",
       "1994         bank_account           30.80          outgoing       supplier   \n",
       "1995         bank_account          535.92          outgoing       supplier   \n",
       "1996        cash_register            1.00          outgoing       supplier   \n",
       "1997         bank_account          116.63          outgoing       supplier   \n",
       "1999         bank_account          358.00          outgoing       supplier   \n",
       "\n",
       "      time_diff  \n",
       "0           -26  \n",
       "1            54  \n",
       "3             6  \n",
       "4             0  \n",
       "6             1  \n",
       "...         ...  \n",
       "1994         25  \n",
       "1995        -13  \n",
       "1996          0  \n",
       "1997         17  \n",
       "1999        -37  \n",
       "\n",
       "[1695 rows x 8 columns]"
      ]
     },
     "execution_count": 24,
     "metadata": {},
     "output_type": "execute_result"
    }
   ],
   "source": [
    "df"
   ]
  },
  {
   "cell_type": "code",
   "execution_count": 25,
   "metadata": {},
   "outputs": [
    {
     "data": {
      "text/plain": [
       "Index(['is_correct_linking', 'payable_amount', 'payable_document_type',\n",
       "       'payment_account_type', 'payment_amount', 'payment_direction',\n",
       "       'payment_origin', 'time_diff'],\n",
       "      dtype='object')"
      ]
     },
     "execution_count": 25,
     "metadata": {},
     "output_type": "execute_result"
    }
   ],
   "source": [
    "df.columns"
   ]
  },
  {
   "cell_type": "code",
   "execution_count": 26,
   "metadata": {},
   "outputs": [],
   "source": [
    "X = df.drop(columns=['is_correct_linking'])\n",
    "y = df[\"is_correct_linking\"]"
   ]
  },
  {
   "cell_type": "code",
   "execution_count": 27,
   "metadata": {},
   "outputs": [],
   "source": [
    "categorical_columns_subset = [\n",
    "    'payable_document_type', 'payment_account_type', 'payment_direction',\n",
    "       'payment_origin'\n",
    "]\n",
    "\n",
    "numerical_columns_subset = [\n",
    "   'payable_amount', 'payment_amount','time_diff'\n",
    "]\n",
    "\n",
    "X = X[categorical_columns_subset + numerical_columns_subset]\n",
    "X[categorical_columns_subset] = X[categorical_columns_subset].astype(\"category\")\n",
    "\n",
    "n_categorical_features = X.select_dtypes(include=\"category\").shape[1]\n",
    "n_numerical_features = X.select_dtypes(include=\"number\").shape[1]"
   ]
  },
  {
   "cell_type": "code",
   "execution_count": 28,
   "metadata": {},
   "outputs": [],
   "source": [
    "from sklearn.preprocessing import OneHotEncoder\n",
    "\n",
    "one_hot_encoder = make_column_transformer(\n",
    "    (\n",
    "        OneHotEncoder(sparse=False, handle_unknown=\"ignore\"),\n",
    "        make_column_selector(dtype_include=\"category\"),\n",
    "    ),\n",
    "    remainder=\"passthrough\",\n",
    ")\n",
    "\n"
   ]
  },
  {
   "cell_type": "code",
   "execution_count": 29,
   "metadata": {},
   "outputs": [],
   "source": [
    "pipe = Pipeline( [\n",
    "    ('columntransform', one_hot_encoder),\n",
    "    #(\"column_transform\", column_transform)\n",
    "    (\"classify\", RandomForestClassifier(random_state=1234, n_estimators=100))\n",
    "])"
   ]
  },
  {
   "cell_type": "code",
   "execution_count": 30,
   "metadata": {},
   "outputs": [
    {
     "data": {
      "text/plain": [
       "Pipeline(steps=[('columntransform',\n",
       "                 ColumnTransformer(remainder='passthrough',\n",
       "                                   transformers=[('onehotencoder',\n",
       "                                                  OneHotEncoder(handle_unknown='ignore',\n",
       "                                                                sparse=False),\n",
       "                                                  <sklearn.compose._column_transformer.make_column_selector object at 0x1290e9f50>)])),\n",
       "                ('classify', RandomForestClassifier(random_state=1234))])"
      ]
     },
     "execution_count": 30,
     "metadata": {},
     "output_type": "execute_result"
    }
   ],
   "source": [
    "X_train, X_test, y_train, y_test = train_test_split(X, y, train_size=0.7, random_state=42)\n",
    "\n",
    "pipe.fit(X_train,y_train)"
   ]
  },
  {
   "cell_type": "code",
   "execution_count": 31,
   "metadata": {},
   "outputs": [],
   "source": [
    "f1_scorer = make_scorer(f1_score)"
   ]
  },
  {
   "cell_type": "code",
   "execution_count": 32,
   "metadata": {},
   "outputs": [],
   "source": [
    "#X_train, X_test, y_train, y_test = train_test_split(X, y, train_size=0.7, random_state=42)"
   ]
  },
  {
   "cell_type": "code",
   "execution_count": null,
   "metadata": {},
   "outputs": [],
   "source": []
  },
  {
   "cell_type": "code",
   "execution_count": 33,
   "metadata": {},
   "outputs": [
    {
     "name": "stdout",
     "output_type": "stream",
     "text": [
      "Fitting 5 folds for each of 6 candidates, totalling 30 fits\n"
     ]
    },
    {
     "data": {
      "text/plain": [
       "GridSearchCV(cv=5,\n",
       "             estimator=Pipeline(steps=[('columntransform',\n",
       "                                        ColumnTransformer(remainder='passthrough',\n",
       "                                                          transformers=[('onehotencoder',\n",
       "                                                                         OneHotEncoder(handle_unknown='ignore',\n",
       "                                                                                       sparse=False),\n",
       "                                                                         <sklearn.compose._column_transformer.make_column_selector object at 0x1290e9f50>)])),\n",
       "                                       ('classify',\n",
       "                                        RandomForestClassifier(random_state=1234))]),\n",
       "             n_jobs=1,\n",
       "             param_grid=[{'classify__max_depth': [6, 8, 10, 12, 15, 20]}],\n",
       "             return_train_score=True, scoring=make_scorer(f1_score), verbose=1)"
      ]
     },
     "execution_count": 33,
     "metadata": {},
     "output_type": "execute_result"
    }
   ],
   "source": [
    "maxdepth_grid = [ 6, 8, 10, 12, 15, 20]\n",
    "param_grid = [\n",
    "    {'classify__max_depth': maxdepth_grid },\n",
    "]\n",
    "grid = GridSearchCV(pipe, cv=5, n_jobs=1, param_grid=param_grid, verbose=1, \n",
    "                    return_train_score=True, scoring=f1_scorer)\n",
    "grid.fit(X_train, y_train)"
   ]
  },
  {
   "cell_type": "code",
   "execution_count": 34,
   "metadata": {},
   "outputs": [
    {
     "data": {
      "text/html": [
       "<div>\n",
       "<style scoped>\n",
       "    .dataframe tbody tr th:only-of-type {\n",
       "        vertical-align: middle;\n",
       "    }\n",
       "\n",
       "    .dataframe tbody tr th {\n",
       "        vertical-align: top;\n",
       "    }\n",
       "\n",
       "    .dataframe thead th {\n",
       "        text-align: right;\n",
       "    }\n",
       "</style>\n",
       "<table border=\"1\" class=\"dataframe\">\n",
       "  <thead>\n",
       "    <tr style=\"text-align: right;\">\n",
       "      <th>col_0</th>\n",
       "      <th>0.0</th>\n",
       "      <th>1.0</th>\n",
       "    </tr>\n",
       "    <tr>\n",
       "      <th>is_correct_linking</th>\n",
       "      <th></th>\n",
       "      <th></th>\n",
       "    </tr>\n",
       "  </thead>\n",
       "  <tbody>\n",
       "    <tr>\n",
       "      <th>0.0</th>\n",
       "      <td>0.662</td>\n",
       "      <td>0.043</td>\n",
       "    </tr>\n",
       "    <tr>\n",
       "      <th>1.0</th>\n",
       "      <td>0.108</td>\n",
       "      <td>0.187</td>\n",
       "    </tr>\n",
       "  </tbody>\n",
       "</table>\n",
       "</div>"
      ],
      "text/plain": [
       "col_0                 0.0    1.0\n",
       "is_correct_linking              \n",
       "0.0                 0.662  0.043\n",
       "1.0                 0.108  0.187"
      ]
     },
     "metadata": {},
     "output_type": "display_data"
    },
    {
     "name": "stdout",
     "output_type": "stream",
     "text": [
      "accuracy: 0.849\n",
      "f1-score: 0.712\n"
     ]
    }
   ],
   "source": [
    "y_predict_RFC = grid.predict(X_test)\n",
    "display(pd.crosstab(columns=y_predict_RFC, index=y_test, normalize=True).round(3))\n",
    "print('accuracy: {:.3f}'.format(accuracy_score(y_test, y_predict_RFC)))\n",
    "print('f1-score: {:.3f}'.format(f1_score(y_test, y_predict_RFC)))"
   ]
  },
  {
   "cell_type": "code",
   "execution_count": 35,
   "metadata": {},
   "outputs": [
    {
     "data": {
      "text/plain": [
       "{'mean_fit_time': array([0.19934425, 0.20427737, 0.26343231, 0.31802187, 0.26504087,\n",
       "        0.22555518]),\n",
       " 'std_fit_time': array([0.0175029 , 0.00948538, 0.05960716, 0.09670084, 0.07557346,\n",
       "        0.01253874]),\n",
       " 'mean_score_time': array([0.02452211, 0.02351103, 0.02645006, 0.03839464, 0.02303486,\n",
       "        0.02172408]),\n",
       " 'std_score_time': array([0.00461307, 0.00182111, 0.0040679 , 0.00868914, 0.00146487,\n",
       "        0.00093437]),\n",
       " 'param_classify__max_depth': masked_array(data=[6, 8, 10, 12, 15, 20],\n",
       "              mask=[False, False, False, False, False, False],\n",
       "        fill_value='?',\n",
       "             dtype=object),\n",
       " 'params': [{'classify__max_depth': 6},\n",
       "  {'classify__max_depth': 8},\n",
       "  {'classify__max_depth': 10},\n",
       "  {'classify__max_depth': 12},\n",
       "  {'classify__max_depth': 15},\n",
       "  {'classify__max_depth': 20}],\n",
       " 'split0_test_score': array([0.46808511, 0.61818182, 0.63934426, 0.65      , 0.66129032,\n",
       "        0.672     ]),\n",
       " 'split1_test_score': array([0.41237113, 0.5982906 , 0.71532847, 0.74285714, 0.76923077,\n",
       "        0.73239437]),\n",
       " 'split2_test_score': array([0.55445545, 0.62068966, 0.7480916 , 0.79411765, 0.75362319,\n",
       "        0.76811594]),\n",
       " 'split3_test_score': array([0.39583333, 0.56637168, 0.63492063, 0.6870229 , 0.66666667,\n",
       "        0.69172932]),\n",
       " 'split4_test_score': array([0.46808511, 0.66055046, 0.768     , 0.79069767, 0.8       ,\n",
       "        0.77862595]),\n",
       " 'mean_test_score': array([0.45976603, 0.61281684, 0.70113699, 0.73293907, 0.73016219,\n",
       "        0.72857312]),\n",
       " 'std_test_score': array([0.05556647, 0.03078125, 0.05491765, 0.05685847, 0.05608762,\n",
       "        0.04157284]),\n",
       " 'rank_test_score': array([6, 5, 4, 1, 2, 3], dtype=int32),\n",
       " 'split0_train_score': array([0.54822335, 0.85436893, 0.92224231, 0.9676259 , 0.99111901,\n",
       "        0.99821747]),\n",
       " 'split1_train_score': array([0.55778894, 0.8       , 0.91620112, 0.95855856, 0.98924731,\n",
       "        1.        ]),\n",
       " 'split2_train_score': array([0.5811138 , 0.83430799, 0.9213894 , 0.97142857, 0.99644128,\n",
       "        1.        ]),\n",
       " 'split3_train_score': array([0.52417303, 0.84555985, 0.91726619, 0.96071429, 0.99111901,\n",
       "        1.        ]),\n",
       " 'split4_train_score': array([0.49086162, 0.74074074, 0.91620112, 0.96243292, 0.98756661,\n",
       "        1.        ]),\n",
       " 'mean_train_score': array([0.54043215, 0.8149955 , 0.91866003, 0.96415205, 0.99109864,\n",
       "        0.99964349]),\n",
       " 'std_train_score': array([0.03078491, 0.04146336, 0.00261983, 0.0047133 , 0.00298152,\n",
       "        0.00071301])}"
      ]
     },
     "execution_count": 35,
     "metadata": {},
     "output_type": "execute_result"
    }
   ],
   "source": [
    "grid.cv_results_"
   ]
  },
  {
   "cell_type": "code",
   "execution_count": 36,
   "metadata": {},
   "outputs": [],
   "source": [
    "result=pd.DataFrame({'param_classify__max_depth': grid.cv_results_[\"param_classify__max_depth\"],'mean_test_score':\n",
    "             \n",
    "             grid.cv_results_[\"mean_test_score\"], 'std_test_score': grid.cv_results_[\"std_test_score\"],\n",
    "            'mean_train_score':   grid.cv_results_[\"mean_train_score\"],'std_train_score':grid.cv_results_[\"std_train_score\"]\n",
    "             })"
   ]
  },
  {
   "cell_type": "code",
   "execution_count": 37,
   "metadata": {},
   "outputs": [
    {
     "data": {
      "text/html": [
       "<div>\n",
       "<style scoped>\n",
       "    .dataframe tbody tr th:only-of-type {\n",
       "        vertical-align: middle;\n",
       "    }\n",
       "\n",
       "    .dataframe tbody tr th {\n",
       "        vertical-align: top;\n",
       "    }\n",
       "\n",
       "    .dataframe thead th {\n",
       "        text-align: right;\n",
       "    }\n",
       "</style>\n",
       "<table border=\"1\" class=\"dataframe\">\n",
       "  <thead>\n",
       "    <tr style=\"text-align: right;\">\n",
       "      <th></th>\n",
       "      <th>param_classify__max_depth</th>\n",
       "      <th>mean_test_score</th>\n",
       "      <th>std_test_score</th>\n",
       "      <th>mean_train_score</th>\n",
       "      <th>std_train_score</th>\n",
       "    </tr>\n",
       "  </thead>\n",
       "  <tbody>\n",
       "    <tr>\n",
       "      <th>0</th>\n",
       "      <td>6</td>\n",
       "      <td>0.459766</td>\n",
       "      <td>0.055566</td>\n",
       "      <td>0.540432</td>\n",
       "      <td>0.030785</td>\n",
       "    </tr>\n",
       "    <tr>\n",
       "      <th>1</th>\n",
       "      <td>8</td>\n",
       "      <td>0.612817</td>\n",
       "      <td>0.030781</td>\n",
       "      <td>0.814996</td>\n",
       "      <td>0.041463</td>\n",
       "    </tr>\n",
       "    <tr>\n",
       "      <th>2</th>\n",
       "      <td>10</td>\n",
       "      <td>0.701137</td>\n",
       "      <td>0.054918</td>\n",
       "      <td>0.918660</td>\n",
       "      <td>0.002620</td>\n",
       "    </tr>\n",
       "    <tr>\n",
       "      <th>3</th>\n",
       "      <td>12</td>\n",
       "      <td>0.732939</td>\n",
       "      <td>0.056858</td>\n",
       "      <td>0.964152</td>\n",
       "      <td>0.004713</td>\n",
       "    </tr>\n",
       "    <tr>\n",
       "      <th>4</th>\n",
       "      <td>15</td>\n",
       "      <td>0.730162</td>\n",
       "      <td>0.056088</td>\n",
       "      <td>0.991099</td>\n",
       "      <td>0.002982</td>\n",
       "    </tr>\n",
       "    <tr>\n",
       "      <th>5</th>\n",
       "      <td>20</td>\n",
       "      <td>0.728573</td>\n",
       "      <td>0.041573</td>\n",
       "      <td>0.999643</td>\n",
       "      <td>0.000713</td>\n",
       "    </tr>\n",
       "  </tbody>\n",
       "</table>\n",
       "</div>"
      ],
      "text/plain": [
       "  param_classify__max_depth  mean_test_score  std_test_score  \\\n",
       "0                         6         0.459766        0.055566   \n",
       "1                         8         0.612817        0.030781   \n",
       "2                        10         0.701137        0.054918   \n",
       "3                        12         0.732939        0.056858   \n",
       "4                        15         0.730162        0.056088   \n",
       "5                        20         0.728573        0.041573   \n",
       "\n",
       "   mean_train_score  std_train_score  \n",
       "0          0.540432         0.030785  \n",
       "1          0.814996         0.041463  \n",
       "2          0.918660         0.002620  \n",
       "3          0.964152         0.004713  \n",
       "4          0.991099         0.002982  \n",
       "5          0.999643         0.000713  "
      ]
     },
     "execution_count": 37,
     "metadata": {},
     "output_type": "execute_result"
    }
   ],
   "source": [
    "result"
   ]
  },
  {
   "cell_type": "code",
   "execution_count": 38,
   "metadata": {},
   "outputs": [
    {
     "data": {
      "image/png": "[encoded data removed]",
      "text/plain": [
       "<Figure size 1008x576 with 1 Axes>"
      ]
     },
     "metadata": {
      "image/png": {
       "height": 488,
       "width": 842
      },
      "needs_background": "light"
     },
     "output_type": "display_data"
    }
   ],
   "source": [
    "plt.errorbar(result['param_classify__max_depth'], result['mean_test_score'], \n",
    "         yerr=result['std_test_score'], label='test')\n",
    "plt.errorbar(result['param_classify__max_depth'], result['mean_train_score'], \n",
    "         yerr=result['std_train_score'], label='train')\n",
    "plt.xlabel('Max depth')\n",
    "plt.ylabel('F1-score')\n",
    "plt.legend();"
   ]
  }
 ],
 "metadata": {
  "colab": {
   "authorship_tag": "ABX9TyMZhwhHx+SB6MY+LOZ3sQnE",
   "collapsed_sections": [],
   "mount_file_id": "1iD9mki5HnClTbxxzzNUBKgOa8kDFncGL",
   "name": "exercise.ipynb",
   "private_outputs": true,
   "provenance": []
  },
  "kernelspec": {
   "display_name": "Python 3 (ipykernel)",
   "language": "python",
   "name": "python3"
  },
  "language_info": {
   "codemirror_mode": {
    "name": "ipython",
    "version": 3
   },
   "file_extension": ".py",
   "mimetype": "text/x-python",
   "name": "python",
   "nbconvert_exporter": "python",
   "pygments_lexer": "ipython3",
   "version": "3.9.13"
  }
 },
 "nbformat": 4,
 "nbformat_minor": 1
}
